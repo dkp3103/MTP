{
 "cells": [
  {
   "cell_type": "code",
   "execution_count": 19,
   "id": "edc239fd",
   "metadata": {},
   "outputs": [
    {
     "name": "stdout",
     "output_type": "stream",
     "text": [
      "RDF data conforms to the SHACL shape (no overlapping events).\n"
     ]
    }
   ],
   "source": [
    "from rdflib import Graph\n",
    "from pyshacl import validate\n",
    "\n",
    "# Load RDF data and SHACL shape\n",
    "g = Graph()\n",
    "g.parse(\"events_data.ttl\", format=\"turtle\")\n",
    "\n",
    "shapes_graph = Graph()\n",
    "shapes_graph.parse(\"event_shapes.ttl\", format=\"turtle\")\n",
    "\n",
    "# Perform validation\n",
    "conforms, _, _ = validate(g, shacl_graph=shapes_graph, inference=\"rdfs\")\n",
    "\n",
    "if conforms:\n",
    "    print(\"RDF data conforms to the SHACL shape (no overlapping events).\")\n",
    "else:\n",
    "    print(\"RDF data does not conform to the SHACL shape. Validation report:\")\n",
    "    # Print the validation report to identify overlapping events or other issues\n"
   ]
  },
  {
   "cell_type": "code",
   "execution_count": null,
   "id": "f5d10c67",
   "metadata": {},
   "outputs": [],
   "source": [
    " "
   ]
  },
  {
   "cell_type": "code",
   "execution_count": 18,
   "id": "f507a9ea",
   "metadata": {},
   "outputs": [
    {
     "name": "stdout",
     "output_type": "stream",
     "text": [
      "RDF data conforms to the SHACL shape (no overlapping events).\n"
     ]
    }
   ],
   "source": [
    "\n",
    "# Load RDF data and SHACL shape\n",
    "g = Graph()\n",
    "g.parse(\"event_with_overlap.ttl\", format=\"turtle\")\n",
    "\n",
    "shapes_graph = Graph()\n",
    "shapes_graph.parse(\"event_shapes.ttl\", format=\"turtle\")\n",
    "\n",
    "# Perform validation\n",
    "conforms, _, _ = validate(g, shacl_graph=shapes_graph, inference=\"rdfs\")\n",
    "\n",
    "if conforms:\n",
    "    print(\"RDF data conforms to the SHACL shape (no overlapping events).\")\n",
    "else:\n",
    "    print(\"RDF data does not conform to the SHACL shape. Validation report:\")\n",
    "    # Print the validation report to identify overlapping events or other issues"
   ]
  },
  {
   "cell_type": "code",
   "execution_count": null,
   "id": "c11de2e9",
   "metadata": {},
   "outputs": [],
   "source": []
  },
  {
   "cell_type": "code",
   "execution_count": 1,
   "id": "aa6a2baf",
   "metadata": {},
   "outputs": [
    {
     "name": "stdout",
     "output_type": "stream",
     "text": [
      "RDF data conforms to the SHACL shape (no overlapping events).\n"
     ]
    }
   ],
   "source": [
    "\n",
    "from rdflib import Graph\n",
    "from pyshacl import validate\n",
    "\n",
    "# Load RDF data and SHACL shape\n",
    "g = Graph()\n",
    "g.parse(\"overlap_2.ttl\", format=\"turtle\")\n",
    "\n",
    "shapes_graph = Graph()\n",
    "shapes_graph.parse(\"overlap_shacl.ttl\", format=\"turtle\")\n",
    "\n",
    "# Perform validation\n",
    "conforms, _, report_graph = validate(g, shacl_graph=shapes_graph, inference=\"rdfs\")\n",
    "\n",
    "if conforms:\n",
    "    print(\"RDF data conforms to the SHACL shape (no overlapping events).\")\n",
    "else:\n",
    "    print(\"RDF data does not conform to the SHACL shape. Validation report:\")\n",
    "    # Print the validation report to identify overlapping events or other issues\n",
    "    print(report_graph.serialize(format=\"turtle\").decode())\n"
   ]
  },
  {
   "cell_type": "code",
   "execution_count": null,
   "id": "9ceb4bf2",
   "metadata": {},
   "outputs": [],
   "source": []
  },
  {
   "cell_type": "code",
   "execution_count": 2,
   "id": "9355305d",
   "metadata": {},
   "outputs": [
    {
     "name": "stdout",
     "output_type": "stream",
     "text": [
      "RDF data conforms to the SHACL shape (no overlapping events).\n"
     ]
    }
   ],
   "source": [
    "import rdflib\n",
    "from pyshacl import validate\n",
    "\n",
    "# Load RDF data and SHACL shape\n",
    "g = rdflib.Graph()\n",
    "g.parse(\"overlap_2.ttl\", format=\"turtle\")\n",
    "\n",
    "shapes_graph = rdflib.Graph()\n",
    "shapes_graph.parse(\"overlap_shacl.ttl\", format=\"turtle\")\n",
    "\n",
    "# Perform validation\n",
    "conforms, results_graph, results_text = validate(g, shacl_graph=shapes_graph, inference=\"rdfs\")\n",
    "\n",
    "if conforms:\n",
    "    print(\"RDF data conforms to the SHACL shape (no overlapping events).\")\n",
    "else:\n",
    "    print(\"RDF data does not conform to the SHACL shape. Validation report:\")\n",
    "    print(results_text)\n"
   ]
  },
  {
   "cell_type": "code",
   "execution_count": null,
   "id": "f7fbdbe8",
   "metadata": {},
   "outputs": [],
   "source": []
  },
  {
   "cell_type": "code",
   "execution_count": 7,
   "id": "d2fa7829",
   "metadata": {},
   "outputs": [
    {
     "name": "stdout",
     "output_type": "stream",
     "text": [
      "Overlap detected between http://example.com/events#Event1 and http://example.com/events#Event2\n",
      "http://example.com/events#Event1: 2023-09-15 09:00:00 - 2023-09-15 10:30:00\n",
      "http://example.com/events#Event2: 2023-09-15 10:15:00 - 2023-09-15 11:00:00\n",
      "\n",
      "Overlap detected between http://example.com/events#Event2 and http://example.com/events#Event1\n",
      "http://example.com/events#Event2: 2023-09-15 10:15:00 - 2023-09-15 11:00:00\n",
      "http://example.com/events#Event1: 2023-09-15 09:00:00 - 2023-09-15 10:30:00\n",
      "\n",
      "Overlap detected between http://example.com/events#Event4 and http://example.com/events#Event5\n",
      "http://example.com/events#Event4: 2023-09-15 14:00:00 - 2023-09-15 15:30:00\n",
      "http://example.com/events#Event5: 2023-09-15 15:00:00 - 2023-09-15 16:00:00\n",
      "\n",
      "Overlap detected between http://example.com/events#Event5 and http://example.com/events#Event4\n",
      "http://example.com/events#Event5: 2023-09-15 15:00:00 - 2023-09-15 16:00:00\n",
      "http://example.com/events#Event4: 2023-09-15 14:00:00 - 2023-09-15 15:30:00\n",
      "\n",
      "Overlap detected between http://example.com/events#Event6 and http://example.com/events#Event7\n",
      "http://example.com/events#Event6: 2023-09-15 16:15:00 - 2023-09-15 17:30:00\n",
      "http://example.com/events#Event7: 2023-09-15 17:00:00 - 2023-09-15 18:00:00\n",
      "\n",
      "Overlap detected between http://example.com/events#Event7 and http://example.com/events#Event6\n",
      "http://example.com/events#Event7: 2023-09-15 17:00:00 - 2023-09-15 18:00:00\n",
      "http://example.com/events#Event6: 2023-09-15 16:15:00 - 2023-09-15 17:30:00\n",
      "\n"
     ]
    }
   ],
   "source": [
    "try:\n",
    "    # Your SHACL validation code here\n",
    "    from rdflib import Graph, Namespace, Literal, XSD\n",
    "    from datetime import datetime\n",
    "    from itertools import combinations\n",
    "\n",
    "    # Create an RDF graph\n",
    "    ex = Namespace(\"http://example.com/events#\")\n",
    "    g = Graph()\n",
    "\n",
    "    # Load RDF data with events, including overlapping ones\n",
    "    g.parse(\"overlap_2.ttl\", format=\"turtle\")\n",
    "\n",
    "    # Query for events with overlapping date ranges\n",
    "    query = \"\"\"\n",
    "    PREFIX ex: <http://example.com/events#>\n",
    "    SELECT ?event1 ?event2 ?start1 ?end1 ?start2 ?end2\n",
    "    WHERE {\n",
    "      ?event1 ex:startDate ?start1 .\n",
    "      ?event1 ex:endDate ?end1 .\n",
    "      ?event2 ex:startDate ?start2 .\n",
    "      ?event2 ex:endDate ?end2 .\n",
    "      FILTER (?event1 != ?event2 && ?end1 >= ?start2 && ?start1 <= ?end2)\n",
    "    }\n",
    "    \"\"\"\n",
    "\n",
    "    overlap_detected = False\n",
    "\n",
    "    for row in g.query(query):\n",
    "        event1 = row['event1']\n",
    "        event2 = row['event2']\n",
    "        start1 = datetime.strptime(row['start1'], \"%Y-%m-%dT%H:%M:%S\")\n",
    "        end1 = datetime.strptime(row['end1'], \"%Y-%m-%dT%H:%M:%S\")\n",
    "        start2 = datetime.strptime(row['start2'], \"%Y-%m-%dT%H:%M:%S\")\n",
    "        end2 = datetime.strptime(row['end2'], \"%Y-%m-%dT%H:%M:%S\")\n",
    "\n",
    "        print(f\"Overlap detected between {event1} and {event2}\")\n",
    "        print(f\"{event1}: {start1} - {end1}\")\n",
    "        print(f\"{event2}: {start2} - {end2}\")\n",
    "        print()\n",
    "\n",
    "        overlap_detected = True\n",
    "\n",
    "    if not overlap_detected:\n",
    "        print(\"No overlapping events found.\")\n",
    "\n",
    "except Exception as e:\n",
    "    print(\"Exception occurred:\")\n",
    "    print(str(e))\n"
   ]
  },
  {
   "cell_type": "code",
   "execution_count": null,
   "id": "363044c5",
   "metadata": {},
   "outputs": [],
   "source": []
  },
  {
   "cell_type": "code",
   "execution_count": 9,
   "id": "7abdbda8",
   "metadata": {},
   "outputs": [
    {
     "name": "stdout",
     "output_type": "stream",
     "text": [
      "[(rdflib.term.URIRef('http://example.com/events#Event1'), rdflib.term.URIRef('http://example.com/events#Event2'), datetime.datetime(2023, 9, 15, 9, 0), datetime.datetime(2023, 9, 15, 10, 30), datetime.datetime(2023, 9, 15, 10, 15), datetime.datetime(2023, 9, 15, 11, 0)), (rdflib.term.URIRef('http://example.com/events#Event2'), rdflib.term.URIRef('http://example.com/events#Event1'), datetime.datetime(2023, 9, 15, 10, 15), datetime.datetime(2023, 9, 15, 11, 0), datetime.datetime(2023, 9, 15, 9, 0), datetime.datetime(2023, 9, 15, 10, 30)), (rdflib.term.URIRef('http://example.com/events#Event4'), rdflib.term.URIRef('http://example.com/events#Event5'), datetime.datetime(2023, 9, 15, 14, 0), datetime.datetime(2023, 9, 15, 15, 30), datetime.datetime(2023, 9, 15, 15, 0), datetime.datetime(2023, 9, 15, 16, 0)), (rdflib.term.URIRef('http://example.com/events#Event5'), rdflib.term.URIRef('http://example.com/events#Event4'), datetime.datetime(2023, 9, 15, 15, 0), datetime.datetime(2023, 9, 15, 16, 0), datetime.datetime(2023, 9, 15, 14, 0), datetime.datetime(2023, 9, 15, 15, 30)), (rdflib.term.URIRef('http://example.com/events#Event6'), rdflib.term.URIRef('http://example.com/events#Event7'), datetime.datetime(2023, 9, 15, 16, 15), datetime.datetime(2023, 9, 15, 17, 30), datetime.datetime(2023, 9, 15, 17, 0), datetime.datetime(2023, 9, 15, 18, 0)), (rdflib.term.URIRef('http://example.com/events#Event7'), rdflib.term.URIRef('http://example.com/events#Event6'), datetime.datetime(2023, 9, 15, 17, 0), datetime.datetime(2023, 9, 15, 18, 0), datetime.datetime(2023, 9, 15, 16, 15), datetime.datetime(2023, 9, 15, 17, 30))]\n",
      "Overlapping events detected:\n",
      "http://example.com/events#Event1: 2023-09-15 09:00:00 - 2023-09-15 10:30:00 overlaps with http://example.com/events#Event2: 2023-09-15 10:15:00 - 2023-09-15 11:00:00\n",
      "http://example.com/events#Event2: 2023-09-15 10:15:00 - 2023-09-15 11:00:00 overlaps with http://example.com/events#Event1: 2023-09-15 09:00:00 - 2023-09-15 10:30:00\n",
      "http://example.com/events#Event4: 2023-09-15 14:00:00 - 2023-09-15 15:30:00 overlaps with http://example.com/events#Event5: 2023-09-15 15:00:00 - 2023-09-15 16:00:00\n",
      "http://example.com/events#Event5: 2023-09-15 15:00:00 - 2023-09-15 16:00:00 overlaps with http://example.com/events#Event4: 2023-09-15 14:00:00 - 2023-09-15 15:30:00\n",
      "http://example.com/events#Event6: 2023-09-15 16:15:00 - 2023-09-15 17:30:00 overlaps with http://example.com/events#Event7: 2023-09-15 17:00:00 - 2023-09-15 18:00:00\n",
      "http://example.com/events#Event7: 2023-09-15 17:00:00 - 2023-09-15 18:00:00 overlaps with http://example.com/events#Event6: 2023-09-15 16:15:00 - 2023-09-15 17:30:00\n"
     ]
    }
   ],
   "source": [
    "try:\n",
    "    # Your SHACL validation code here\n",
    "    from rdflib import Graph, Namespace, Literal, XSD\n",
    "    from datetime import datetime\n",
    "    from itertools import combinations\n",
    "\n",
    "    # Create an RDF graph\n",
    "    ex = Namespace(\"http://example.com/events#\")\n",
    "    g = Graph()\n",
    "\n",
    "    # Load RDF data with events, including overlapping ones\n",
    "    g.parse(\"overlap_2.ttl\", format=\"turtle\")\n",
    "\n",
    "    # Query for events with overlapping date ranges\n",
    "    query = \"\"\"\n",
    "    PREFIX ex: <http://example.com/events#>\n",
    "    SELECT ?event1 ?event2 ?start1 ?end1 ?start2 ?end2\n",
    "    WHERE {\n",
    "      ?event1 ex:startDate ?start1 .\n",
    "      ?event1 ex:endDate ?end1 .\n",
    "      ?event2 ex:startDate ?start2 .\n",
    "      ?event2 ex:endDate ?end2 .\n",
    "      FILTER (?event1 != ?event2 && ?end1 >= ?start2 && ?start1 <= ?end2)\n",
    "    }\n",
    "    \"\"\"\n",
    "\n",
    "    overlapping_events = []\n",
    "\n",
    "    for row in g.query(query):\n",
    "        event1 = row['event1']\n",
    "        event2 = row['event2']\n",
    "        start1 = datetime.strptime(row['start1'], \"%Y-%m-%dT%H:%M:%S\")\n",
    "        end1 = datetime.strptime(row['end1'], \"%Y-%m-%dT%H:%M:%S\")\n",
    "        start2 = datetime.strptime(row['start2'], \"%Y-%m-%dT%H:%M:%S\")\n",
    "        end2 = datetime.strptime(row['end2'], \"%Y-%m-%dT%H:%M:%S\")\n",
    "\n",
    "        overlapping_events.append((event1, event2, start1, end1, start2, end2))\n",
    "\n",
    "    if overlapping_events:\n",
    "        print(overlapping_events)\n",
    "        print(\"Overlapping events detected:\")\n",
    "        for event1, event2, start1, end1, start2, end2 in overlapping_events:\n",
    "            print(f\"{event1}: {start1} - {end1} overlaps with {event2}: {start2} - {end2}\")\n",
    "    else:\n",
    "        print(\"No overlapping events found.\")\n",
    "\n",
    "\n",
    "except Exception as e:\n",
    "    print(\"Exception occurred:\")\n",
    "    print(str(e))\n"
   ]
  },
  {
   "cell_type": "code",
   "execution_count": null,
   "id": "63b5281f",
   "metadata": {},
   "outputs": [],
   "source": []
  },
  {
   "cell_type": "code",
   "execution_count": 13,
   "id": "4be992e2",
   "metadata": {},
   "outputs": [
    {
     "name": "stdout",
     "output_type": "stream",
     "text": [
      "False\n",
      "Overlapping events detected:\n",
      "http://example.com/events#Event9: 2023-09-15 21:00:00 - 2023-09-15 22:15:00 overlaps with http://example.com/events#Event10: 2023-09-15 21:00:00 - 2023-09-15 22:15:00\n",
      "http://example.com/events#Event10: 2023-09-15 21:00:00 - 2023-09-15 22:15:00 overlaps with http://example.com/events#Event9: 2023-09-15 21:00:00 - 2023-09-15 22:15:00\n"
     ]
    }
   ],
   "source": [
    "try:\n",
    "    # Your SHACL validation code here\n",
    "    from rdflib import Graph, Namespace, Literal, XSD\n",
    "    from datetime import datetime\n",
    "    from itertools import combinations\n",
    "\n",
    "    # Create an RDF graph\n",
    "    ex = Namespace(\"http://example.com/events#\")\n",
    "    g = Graph()\n",
    "\n",
    "    # Load RDF data with events, including overlapping ones\n",
    "    g.parse(\"without_overlap_data.ttl\", format=\"turtle\")\n",
    "\n",
    "    # Query for events with overlapping date ranges\n",
    "    query = \"\"\"\n",
    "    PREFIX ex: <http://example.com/events#>\n",
    "    SELECT ?event1 ?event2 ?start1 ?end1 ?start2 ?end2\n",
    "    WHERE {\n",
    "      ?event1 ex:startDate ?start1 .\n",
    "      ?event1 ex:endDate ?end1 .\n",
    "      ?event2 ex:startDate ?start2 .\n",
    "      ?event2 ex:endDate ?end2 .\n",
    "      FILTER (?event1 != ?event2 && ?end1 >= ?start2 && ?start1 <= ?end2)\n",
    "    }\n",
    "    \"\"\"\n",
    "\n",
    "    overlapping_events = []\n",
    "\n",
    "    for row in g.query(query):\n",
    "        event1 = row['event1']\n",
    "        event2 = row['event2']\n",
    "        start1 = datetime.strptime(row['start1'], \"%Y-%m-%dT%H:%M:%S\")\n",
    "        end1 = datetime.strptime(row['end1'], \"%Y-%m-%dT%H:%M:%S\")\n",
    "        start2 = datetime.strptime(row['start2'], \"%Y-%m-%dT%H:%M:%S\")\n",
    "        end2 = datetime.strptime(row['end2'], \"%Y-%m-%dT%H:%M:%S\")\n",
    "\n",
    "        overlapping_events.append((event1, event2, start1, end1, start2, end2))\n",
    "\n",
    "    if overlapping_events:\n",
    "        print(overlapping_events==False)\n",
    "        print(\"Overlapping events detected:\")\n",
    "        for event1, event2, start1, end1, start2, end2 in overlapping_events:\n",
    "            print(f\"{event1}: {start1} - {end1} overlaps with {event2}: {start2} - {end2}\")\n",
    "    else:\n",
    "        print(\"No overlapping events found.\")\n",
    "\n",
    "\n",
    "except Exception as e:\n",
    "    print(\"Exception occurred:\")\n",
    "    print(str(e))\n"
   ]
  },
  {
   "cell_type": "code",
   "execution_count": 17,
   "id": "4d3cdc25",
   "metadata": {},
   "outputs": [
    {
     "name": "stdout",
     "output_type": "stream",
     "text": [
      "Data with overlap: True\n",
      "Data with no overlap: False\n"
     ]
    }
   ],
   "source": []
  },
  {
   "cell_type": "code",
   "execution_count": 18,
   "id": "cd558286",
   "metadata": {},
   "outputs": [
    {
     "name": "stdout",
     "output_type": "stream",
     "text": [
      "Data with overlap: True\n",
      "Data with no overlap: False\n"
     ]
    }
   ],
   "source": [
    "try:\n",
    "    # Your SHACL validation code here\n",
    "    from rdflib import Graph, Namespace, Literal, XSD\n",
    "    from datetime import datetime\n",
    "\n",
    "    def check_for_overlapping_events(data_file):\n",
    "        # Create an RDF graph\n",
    "        ex = Namespace(\"http://example.com/events#\")\n",
    "        g = Graph()\n",
    "\n",
    "        # Load RDF data with events\n",
    "        g.parse(data_file, format=\"turtle\")\n",
    "\n",
    "        # Query for events with overlapping date ranges\n",
    "        query = \"\"\"\n",
    "        PREFIX ex: <http://example.com/events#>\n",
    "        SELECT ?event1 ?event2 ?start1 ?end1 ?start2 ?end2\n",
    "        WHERE {\n",
    "          ?event1 ex:startDate ?start1 .\n",
    "          ?event1 ex:endDate ?end1 .\n",
    "          ?event2 ex:startDate ?start2 .\n",
    "          ?event2 ex:endDate ?end2 .\n",
    "          FILTER (?event1 != ?event2 && ?end1 >= ?start2 && ?start1 <= ?end2)\n",
    "        }\n",
    "        \"\"\"\n",
    "\n",
    "        overlapping_events = []\n",
    "\n",
    "        for row in g.query(query):\n",
    "            event1 = row['event1']\n",
    "            event2 = row['event2']\n",
    "            start1 = datetime.strptime(row['start1'], \"%Y-%m-%dT%H:%M:%S\")\n",
    "            end1 = datetime.strptime(row['end1'], \"%Y-%m-%dT%H:%M:%S\")\n",
    "            start2 = datetime.strptime(row['start2'], \"%Y-%m-%dT%H:%M:%S\")\n",
    "            end2 = datetime.strptime(row['end2'], \"%Y-%m-%dT%H:%M:%S\")\n",
    "\n",
    "            overlapping_events.append((event1, event2, start1, end1, start2, end2))\n",
    "\n",
    "        if overlapping_events:\n",
    "            return True  # Overlapping events found\n",
    "        else:\n",
    "            return False  # No overlapping events found\n",
    "\n",
    "    # Example usage:\n",
    "    data_file_with_overlap = \"overlap_2.ttl\"\n",
    "    data_file_no_overlap = \"without_overlap_data.ttl\"\n",
    "\n",
    "    result_with_overlap = check_for_overlapping_events(data_file_with_overlap)\n",
    "    result_no_overlap = check_for_overlapping_events(data_file_no_overlap)\n",
    "\n",
    "    print(\"Data with overlap:\", result_with_overlap)  # Should return True\n",
    "    print(\"Data with no overlap:\", result_no_overlap)  # Should return False\n",
    "\n",
    "\n",
    "\n",
    "except Exception as e:\n",
    "    print(\"Exception occurred:\")\n",
    "    print(str(e))\n"
   ]
  },
  {
   "cell_type": "code",
   "execution_count": null,
   "id": "99eae20d",
   "metadata": {},
   "outputs": [],
   "source": []
  }
 ],
 "metadata": {
  "kernelspec": {
   "display_name": "Python 3 (ipykernel)",
   "language": "python",
   "name": "python3"
  },
  "language_info": {
   "codemirror_mode": {
    "name": "ipython",
    "version": 3
   },
   "file_extension": ".py",
   "mimetype": "text/x-python",
   "name": "python",
   "nbconvert_exporter": "python",
   "pygments_lexer": "ipython3",
   "version": "3.11.4"
  }
 },
 "nbformat": 4,
 "nbformat_minor": 5
}
