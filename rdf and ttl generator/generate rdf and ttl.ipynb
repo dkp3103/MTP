{
 "cells": [
  {
   "cell_type": "code",
   "execution_count": 3,
   "id": "d7000998",
   "metadata": {},
   "outputs": [],
   "source": [
    "import mysql.connector"
   ]
  },
  {
   "cell_type": "code",
   "execution_count": 8,
   "id": "5f15d7c6",
   "metadata": {},
   "outputs": [],
   "source": [
    "conn_object=mysql.connector.connect(host=\"localhost\",user=\"root\",password=\"\",database=\"user_information\")"
   ]
  },
  {
   "cell_type": "code",
   "execution_count": 22,
   "id": "d7da5c03",
   "metadata": {},
   "outputs": [
    {
     "name": "stdout",
     "output_type": "stream",
     "text": [
      "\n",
      " Table Description:\n",
      "('id', 'int(11)', 'NO', 'PRI', None, '')\n",
      "('title', 'varchar(255)', 'NO', '', None, '')\n",
      "('start_event', 'datetime', 'NO', '', None, '')\n",
      "('end_event', 'datetime', 'NO', '', None, '')\n",
      "\n",
      " Table Data:\n",
      "2023-08-10 00:00:00 2023-08-11 00:00:00 \n",
      "2023-08-08 16:50:54 2023-08-08 16:50:54 \n",
      "2023-08-08 16:54:18 2023-08-08 16:54:18 \n",
      "2023-08-09 11:26:58 2023-08-09 11:26:58 \n",
      "2023-08-15 09:00:00 2023-08-15 10:19:21 \n",
      "2023-09-05 21:51:35 2023-09-05 06:21:35 \n"
     ]
    }
   ],
   "source": [
    "# import required modules\n",
    "import mysql.connector\n",
    "\n",
    "# create connection object\n",
    "con = mysql.connector.connect(\n",
    "host=\"localhost\", user=\"root\",\n",
    "password=\"\", database=\"testing\")\n",
    "\n",
    "# create cursor object\n",
    "cursor = con.cursor()\n",
    "\n",
    "# assign data query\n",
    "query1 = \"desc events\"\n",
    "\n",
    "# executing cursor\n",
    "cursor.execute(query1)\n",
    "\n",
    "# display all records\n",
    "table = cursor.fetchall()\n",
    "\n",
    "# describe table\n",
    "print('\\n Table Description:')\n",
    "for attr in table:\n",
    "\tprint(attr)\n",
    "\n",
    "# assign data query\n",
    "query2 = \"select start_event,end_event from events \"\n",
    "\n",
    "# executing cursor\n",
    "cursor.execute(query2)\n",
    "\n",
    "# display all records\n",
    "table = cursor.fetchall()\n",
    "\n",
    "# fetch all columns\n",
    "print('\\n Table Data:')\n",
    "for row in table:\n",
    "\tprint(row[0], end=\" \")\n",
    "\tprint(row[1], end=\" \\n\")\n",
    "# \tprint(row[2], end=\" \")\n",
    "# \tprint(row[3], end=\"\\n\")\n",
    "\t\n",
    "# closing cursor connection\n",
    "cursor.close()\n",
    "\n",
    "# closing connection object\n",
    "con.close()\n"
   ]
  },
  {
   "cell_type": "code",
   "execution_count": 23,
   "id": "3593cfa7",
   "metadata": {},
   "outputs": [
    {
     "data": {
      "text/plain": [
       "[(datetime.datetime(2023, 8, 10, 0, 0), datetime.datetime(2023, 8, 11, 0, 0)),\n",
       " (datetime.datetime(2023, 8, 8, 16, 50, 54),\n",
       "  datetime.datetime(2023, 8, 8, 16, 50, 54)),\n",
       " (datetime.datetime(2023, 8, 8, 16, 54, 18),\n",
       "  datetime.datetime(2023, 8, 8, 16, 54, 18)),\n",
       " (datetime.datetime(2023, 8, 9, 11, 26, 58),\n",
       "  datetime.datetime(2023, 8, 9, 11, 26, 58)),\n",
       " (datetime.datetime(2023, 8, 15, 9, 0),\n",
       "  datetime.datetime(2023, 8, 15, 10, 19, 21)),\n",
       " (datetime.datetime(2023, 9, 5, 21, 51, 35),\n",
       "  datetime.datetime(2023, 9, 5, 6, 21, 35))]"
      ]
     },
     "execution_count": 23,
     "metadata": {},
     "output_type": "execute_result"
    }
   ],
   "source": [
    "table"
   ]
  },
  {
   "cell_type": "code",
   "execution_count": 24,
   "id": "17387e36",
   "metadata": {},
   "outputs": [
    {
     "data": {
      "text/plain": [
       "<Graph identifier=Nd003baa54907400eb21ba6a0a508ab8a (<class 'rdflib.graph.Graph'>)>"
      ]
     },
     "execution_count": 24,
     "metadata": {},
     "output_type": "execute_result"
    }
   ],
   "source": [
    "import rdflib\n",
    "from rdflib import Literal, URIRef\n",
    "\n",
    "# Create an RDF graph\n",
    "g = rdflib.Graph()\n",
    "\n",
    "# Define your namespace URI\n",
    "your_namespace = URIRef(\"http://example.org/\")\n",
    "\n",
    "# Define a resource URI for your event (you can use a specific event identifier)\n",
    "event_uri = URIRef(your_namespace + \"event1\")\n",
    "\n",
    "# Define predicates for start_date and end_date\n",
    "start_date_predicate = URIRef(your_namespace + \"startDate\")\n",
    "end_date_predicate = URIRef(your_namespace + \"endDate\")\n",
    "\n",
    "# Define your start_date and end_date values (replace these with your actual dates)\n",
    "start_date = Literal(\"2023-09-15\", datatype=rdflib.XSD.date)\n",
    "end_date = Literal(\"2023-09-20\", datatype=rdflib.XSD.date)\n",
    "\n",
    "# Create RDF triples for start_date and end_date\n",
    "g.add((event_uri, start_date_predicate, start_date))\n",
    "g.add((event_uri, end_date_predicate, end_date))\n",
    "\n",
    "# Serialize RDF data to a file (e.g., RDF/XML format)\n",
    "g.serialize(destination=\"event_dates.rdf\", format=\"xml\")\n"
   ]
  },
  {
   "cell_type": "code",
   "execution_count": 30,
   "id": "1b18b0f1",
   "metadata": {},
   "outputs": [
    {
     "data": {
      "text/plain": [
       "<Graph identifier=Nfeb7a98953a044eba4866bef5a64140f (<class 'rdflib.graph.Graph'>)>"
      ]
     },
     "execution_count": 30,
     "metadata": {},
     "output_type": "execute_result"
    }
   ],
   "source": [
    "import mysql.connector\n",
    "import rdflib\n",
    "\n",
    "# Connect to the MySQL database and retrieve data\n",
    "# Replace placeholders with your actual database connection details\n",
    "db_connection = mysql.connector.connect(\n",
    "host=\"localhost\", user=\"root\",\n",
    "password=\"\", database=\"testing\")\n",
    "\n",
    "query = \"SELECT start_event, end_event FROM events\"\n",
    "cursor = db_connection.cursor()\n",
    "cursor.execute(query)\n",
    "\n",
    "# Create an RDF graph\n",
    "g = rdflib.Graph()\n",
    "\n",
    "# Define your RDF namespace\n",
    "your_namespace = rdflib.Namespace(\"http://example.com/\")\n",
    "\n",
    "# Iterate over the data and create RDF triples\n",
    "for row in cursor.fetchall():\n",
    "    start_data, end_data = row\n",
    "    \n",
    "    # Create RDF nodes for the values\n",
    "    event_resource = your_namespace[\"event_resource\"]\n",
    "    start_date = your_namespace[\"start_date\"]\n",
    "    end_date = your_namespace[\"end_date\"]\n",
    "#     event_venue = your_namespace[\"event_venue\"]\n",
    "    \n",
    "    g.add((event_resource, start_date, rdflib.Literal(start_data)))\n",
    "    g.add((event_resource, end_date, rdflib.Literal(end_data)))\n",
    "#     g.add((event_resource, event_venue, rdflib.Literal(venue)))\n",
    "\n",
    "# Serialize RDF data to a file (e.g., RDF/XML format)\n",
    "g.serialize(destination=\"events.rdf\", format=\"xml\")\n"
   ]
  },
  {
   "cell_type": "code",
   "execution_count": null,
   "id": "f5cbb829",
   "metadata": {},
   "outputs": [],
   "source": []
  },
  {
   "cell_type": "code",
   "execution_count": 31,
   "id": "9366bb3d",
   "metadata": {},
   "outputs": [
    {
     "data": {
      "text/plain": [
       "<Graph identifier=N4c5cccde46c34ad08014b8a1fa0ef256 (<class 'rdflib.graph.Graph'>)>"
      ]
     },
     "execution_count": 31,
     "metadata": {},
     "output_type": "execute_result"
    }
   ],
   "source": [
    "import mysql.connector\n",
    "import rdflib\n",
    "\n",
    "# Connect to the MySQL database and retrieve data\n",
    "# Replace placeholders with your actual database connection details\n",
    "db_connection = mysql.connector.connect(\n",
    "host=\"localhost\", user=\"root\",\n",
    "password=\"\", database=\"testing\")\n",
    "\n",
    "query = \"SELECT start_event, end_event FROM events\"\n",
    "cursor = db_connection.cursor()\n",
    "cursor.execute(query)\n",
    "\n",
    "# Create an RDF graph\n",
    "g = rdflib.Graph()\n",
    "\n",
    "# Define your RDF namespace\n",
    "your_namespace = rdflib.Namespace(\"http://example.com/\")\n",
    "\n",
    "# Iterate over the data and create RDF triples\n",
    "for row in cursor.fetchall():\n",
    "    start_data, end_data = row\n",
    "    \n",
    "    # Create RDF nodes for the values\n",
    "    event_resource = your_namespace[\"event_resource\"]\n",
    "    start_date = your_namespace[\"start_date\"]\n",
    "    end_date = your_namespace[\"end_date\"]\n",
    "#     event_venue = your_namespace[\"event_venue\"]\n",
    "    \n",
    "    g.add((event_resource, start_date, rdflib.Literal(start_data)))\n",
    "    g.add((event_resource, end_date, rdflib.Literal(end_data)))\n",
    "#     g.add((event_resource, event_venue, rdflib.Literal(venue)))\n",
    "\n",
    "# Serialize RDF data to a file (e.g., RDF/XML format)\n",
    "# g.serialize(destination=\"events.rdf\", format=\"xml\")\n",
    "g.serialize(destination=\"events.ttl\", format=\"turtle\")\n"
   ]
  },
  {
   "cell_type": "code",
   "execution_count": null,
   "id": "883e5755",
   "metadata": {},
   "outputs": [],
   "source": []
  }
 ],
 "metadata": {
  "kernelspec": {
   "display_name": "Python 3 (ipykernel)",
   "language": "python",
   "name": "python3"
  },
  "language_info": {
   "codemirror_mode": {
    "name": "ipython",
    "version": 3
   },
   "file_extension": ".py",
   "mimetype": "text/x-python",
   "name": "python",
   "nbconvert_exporter": "python",
   "pygments_lexer": "ipython3",
   "version": "3.11.4"
  }
 },
 "nbformat": 4,
 "nbformat_minor": 5
}
