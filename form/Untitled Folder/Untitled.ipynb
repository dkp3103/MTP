{
 "cells": [
  {
   "cell_type": "code",
   "execution_count": 6,
   "id": "b0610591",
   "metadata": {},
   "outputs": [],
   "source": [
    "import mysql.connector\n",
    "from lxml import etree\n",
    "\n",
    "# Database configuration\n",
    "db_config = {\n",
    "    \"host\": \"localhost\",\n",
    "    \"user\": \"root\",\n",
    "    \"password\": \"\",\n",
    "    \"database\": \"events\",  \n",
    "}\n",
    "\n",
    "# Establish a database connection\n",
    "conn = mysql.connector.connect(**db_config)\n",
    "\n",
    "# Create a cursor\n",
    "cursor = conn.cursor()\n",
    "\n",
    "# Define an XSD schema file\n",
    "\n",
    "\n",
    "# Query to fetch data from the database\n",
    "query = \"SELECT * FROM seminar\"  # Use the appropriate table name\n",
    "\n",
    "# Execute the query\n",
    "cursor.execute(query)\n",
    "\n",
    "# Fetch all rows\n",
    "rows = cursor.fetchall()\n"
   ]
  },
  {
   "cell_type": "code",
   "execution_count": 36,
   "id": "1747b597",
   "metadata": {},
   "outputs": [
    {
     "name": "stdout",
     "output_type": "stream",
     "text": [
      "12\n"
     ]
    }
   ],
   "source": [
    "print(len(rows[0]))"
   ]
  },
  {
   "cell_type": "code",
   "execution_count": 7,
   "id": "789177f4",
   "metadata": {},
   "outputs": [
    {
     "name": "stdout",
     "output_type": "stream",
     "text": [
      "('semina1', datetime.datetime(2023, 9, 20, 18, 26), datetime.datetime(2023, 9, 20, 19, 26), 'sac', 'prashu', 'student', 'pata nahi', 'bala', 'bala@gmail.com', 'deepak', 'deepak@gmail.com', 'hellow')\n"
     ]
    }
   ],
   "source": [
    "for i in rows:\n",
    "    print(i)"
   ]
  },
  {
   "cell_type": "code",
   "execution_count": 2,
   "id": "94d3c9ee",
   "metadata": {},
   "outputs": [],
   "source": [
    "root = etree.Element(\"events\")"
   ]
  },
  {
   "cell_type": "code",
   "execution_count": 29,
   "id": "363416fe",
   "metadata": {},
   "outputs": [
    {
     "name": "stdout",
     "output_type": "stream",
     "text": [
      "prashu\n"
     ]
    }
   ],
   "source": [
    "for row in rows:\n",
    "    event = etree.SubElement(root, \"event\")\n",
    "    event_title = etree.SubElement(event, \"event_title\")\n",
    "    event_title.text = row[4] \n",
    "    print(row[4])"
   ]
  },
  {
   "cell_type": "code",
   "execution_count": 30,
   "id": "859d1a10",
   "metadata": {},
   "outputs": [
    {
     "name": "stdout",
     "output_type": "stream",
     "text": [
      "2023-09-20 18:26:00\n"
     ]
    }
   ],
   "source": [
    "for row in rows:\n",
    "    event = etree.SubElement(root, \"event\")\n",
    "    event_title = etree.SubElement(event, \"event_title\")\n",
    "    event_title.attrib[\"Date\"] = str(row[1]) \n",
    "    print(str(row[1]))"
   ]
  },
  {
   "cell_type": "code",
   "execution_count": 3,
   "id": "06b66d1b",
   "metadata": {},
   "outputs": [],
   "source": [
    "for row in rows:\n",
    "    event = etree.SubElement(root, \"seminar\")\n",
    "    event_title = etree.SubElement(event, \"Event_Title\")\n",
    "    event_title.text = row[0]   \n",
    "    event_title = etree.SubElement(event, \"Start_Time\")\n",
    "    event_title.attrib[\"Date\"] = str(row[1]) \n",
    "    event_title = etree.SubElement(event, \"End_Time\")\n",
    "    event_title.attrib[\"Date\"] = str(row[2])\n",
    "    event_title = etree.SubElement(event, \"Location\")\n",
    "    event_title.text = row[3] \n",
    "    event_title = etree.SubElement(event, \"Speaker\")\n",
    "    event_title.text = row[4] \n",
    "    event_title = etree.SubElement(event, \"Speaker_Biography\")\n",
    "    event_title.text = row[5] \n",
    "    event_title = etree.SubElement(event, \"Speaker_Affiliation\")\n",
    "    event_title.text = row[6] \n",
    "    event_title = etree.SubElement(event, \"Organizer\")\n",
    "    event_title.text = row[7] \n",
    "    event_title = etree.SubElement(event, \"Organizer_Mail\")\n",
    "    event_title.text = row[8] \n",
    "    event_title = etree.SubElement(event, \"Approver\")\n",
    "    event_title.text = row[9] \n",
    "    event_title = etree.SubElement(event, \"Approver_Mail\")\n",
    "    event_title.text = row[10] \n",
    "    event_title = etree.SubElement(event, \"Abstract\")\n",
    "    event_title.text = row[11] \n",
    "    \n",
    "    "
   ]
  },
  {
   "cell_type": "code",
   "execution_count": 4,
   "id": "0ea4df7e",
   "metadata": {},
   "outputs": [],
   "source": [
    "xml_data = etree.tostring(root, pretty_print=True, encoding=\"utf-8\")"
   ]
  },
  {
   "cell_type": "code",
   "execution_count": 5,
   "id": "989a4e86",
   "metadata": {},
   "outputs": [
    {
     "data": {
      "text/plain": [
       "b'<events>\\n  <seminar>\\n    <Event_Title>semina1</Event_Title>\\n    <Start_Time Date=\"2023-09-20 18:26:00\"/>\\n    <End_Time Date=\"2023-09-20 19:26:00\"/>\\n    <Location>sac</Location>\\n    <Speaker>prashu</Speaker>\\n    <Speaker_Biography>student</Speaker_Biography>\\n    <Speaker_Affiliation>pata nahi</Speaker_Affiliation>\\n    <Organizer>bala</Organizer>\\n    <Organizer_Mail>bala@gmail.com</Organizer_Mail>\\n    <Approver>deepak</Approver>\\n    <Approver_Mail>deepak@gmail.com</Approver_Mail>\\n    <Abstract>hellow</Abstract>\\n  </seminar>\\n</events>\\n'"
      ]
     },
     "execution_count": 5,
     "metadata": {},
     "output_type": "execute_result"
    }
   ],
   "source": [
    "xml_data"
   ]
  },
  {
   "cell_type": "code",
   "execution_count": 6,
   "id": "754cb428",
   "metadata": {},
   "outputs": [],
   "source": [
    "xsd_file = \"event.xsd\""
   ]
  },
  {
   "cell_type": "code",
   "execution_count": 7,
   "id": "e835231c",
   "metadata": {},
   "outputs": [
    {
     "data": {
      "text/plain": [
       "'event.xsd'"
      ]
     },
     "execution_count": 7,
     "metadata": {},
     "output_type": "execute_result"
    }
   ],
   "source": [
    "xsd_file"
   ]
  },
  {
   "cell_type": "code",
   "execution_count": 8,
   "id": "a4b653d4",
   "metadata": {},
   "outputs": [
    {
     "name": "stdout",
     "output_type": "stream",
     "text": [
      "XML data is not valid according to the XSD schema:\n",
      "Element 'Start_Time', attribute 'Date': The attribute 'Date' is not allowed., line 4\n"
     ]
    }
   ],
   "source": [
    "try:\n",
    "    xmlschema_doc = etree.parse(xsd_file)\n",
    "    xmlschema = etree.XMLSchema(xmlschema_doc)\n",
    "    xml_doc = etree.fromstring(xml_data)\n",
    "    xmlschema.assertValid(xml_doc)\n",
    "    print(\"XML data is valid according to the XSD schema.\")\n",
    "except etree.DocumentInvalid as e:\n",
    "    print(\"XML data is not valid according to the XSD schema:\")\n",
    "    print(e)\n"
   ]
  },
  {
   "cell_type": "code",
   "execution_count": 15,
   "id": "7b5ddefb",
   "metadata": {},
   "outputs": [],
   "source": [
    "import xml.etree.ElementTree as ET\n",
    "\n",
    "# Load the XML file\n",
    "tree = ET.parse('seminar.xml')\n",
    "\n",
    "# Get the root element\n",
    "root = tree.getroot()"
   ]
  },
  {
   "cell_type": "code",
   "execution_count": 17,
   "id": "2ef74abb",
   "metadata": {},
   "outputs": [
    {
     "data": {
      "text/plain": [
       "<Element 'events' at 0x0000017167F83010>"
      ]
     },
     "execution_count": 17,
     "metadata": {},
     "output_type": "execute_result"
    }
   ],
   "source": [
    "root"
   ]
  },
  {
   "cell_type": "code",
   "execution_count": 19,
   "id": "a83e063e",
   "metadata": {},
   "outputs": [
    {
     "name": "stdout",
     "output_type": "stream",
     "text": [
      "XML data is valid according to the XSD schema.\n"
     ]
    }
   ],
   "source": [
    "from lxml import etree\n",
    "\n",
    "# Load the XML document from file\n",
    "xml_file = 'seminar.xml'\n",
    "xml_doc = etree.parse(xml_file)\n",
    "\n",
    "# Load the XSD schema from file\n",
    "xsd_file = 'event.xsd'  # Replace with the path to your XSD schema file\n",
    "xmlschema_doc = etree.parse(xsd_file)\n",
    "xmlschema = etree.XMLSchema(xmlschema_doc)\n",
    "\n",
    "# Validate the XML document against the XSD schema\n",
    "try:\n",
    "    xmlschema.assertValid(xml_doc)\n",
    "    print(\"XML data is valid according to the XSD schema.\")\n",
    "except etree.DocumentInvalid as e:\n",
    "    print(\"XML data is not valid according to the XSD schema:\")\n",
    "    print(e)\n",
    "\n"
   ]
  },
  {
   "cell_type": "code",
   "execution_count": 7,
   "id": "943572ec",
   "metadata": {},
   "outputs": [
    {
     "name": "stdout",
     "output_type": "stream",
     "text": [
      "b'<events>\\n  <seminar>\\n    <Event_Title>semina1</Event_Title>\\n    <Start_Time Date=\"2023-09-20 18:26:00\"/>\\n    <End_Time Date=\"2023-09-20 19:26:00\"/>\\n    <Location>sac</Location>\\n    <Speaker>prashu</Speaker>\\n    <Speaker_Biography>student</Speaker_Biography>\\n    <Speaker_Affiliation>pata nahi</Speaker_Affiliation>\\n    <Organizer>bala</Organizer>\\n    <Organizer_Mail>bala@gmail.com</Organizer_Mail>\\n    <Approver>deepak</Approver>\\n    <Approver_Mail>deepak@gmail.com</Approver_Mail>\\n    <Abstract>hellow</Abstract>\\n  </seminar>\\n</events>\\n'\n"
     ]
    }
   ],
   "source": [
    "from lxml import etree\n",
    "\n",
    "# Create the root element\n",
    "root = etree.Element(\"events\")\n",
    "\n",
    "# Assuming you have a list of rows, iterate through them\n",
    "for row in rows:\n",
    "    event = etree.SubElement(root, \"seminar\")\n",
    "    \n",
    "    # Create sub-elements for each attribute and set their text or attributes\n",
    "    event_title = etree.SubElement(event, \"Event_Title\")\n",
    "    event_title.text = row[0]   \n",
    "\n",
    "    start_time = etree.SubElement(event, \"Start_Time\")\n",
    "    start_time.attrib[\"Date\"] = str(row[1]) \n",
    "\n",
    "    end_time = etree.SubElement(event, \"End_Time\")\n",
    "    end_time.attrib[\"Date\"] = str(row[2])\n",
    "\n",
    "    location = etree.SubElement(event, \"Location\")\n",
    "    location.text = row[3] \n",
    "\n",
    "    speaker = etree.SubElement(event, \"Speaker\")\n",
    "    speaker.text = row[4] \n",
    "\n",
    "    speaker_bio = etree.SubElement(event, \"Speaker_Biography\")\n",
    "    speaker_bio.text = row[5] \n",
    "\n",
    "    speaker_affiliation = etree.SubElement(event, \"Speaker_Affiliation\")\n",
    "    speaker_affiliation.text = row[6] \n",
    "\n",
    "    organizer = etree.SubElement(event, \"Organizer\")\n",
    "    organizer.text = row[7] \n",
    "\n",
    "    organizer_mail = etree.SubElement(event, \"Organizer_Mail\")\n",
    "    organizer_mail.text = row[8] \n",
    "\n",
    "    approver = etree.SubElement(event, \"Approver\")\n",
    "    approver.text = row[9] \n",
    "\n",
    "    approver_mail = etree.SubElement(event, \"Approver_Mail\")\n",
    "    approver_mail.text = row[10] \n",
    "\n",
    "    abstract = etree.SubElement(event, \"Abstract\")\n",
    "    abstract.text = row[11] \n",
    "\n",
    "# Convert the XML structure to a string\n",
    "xml_data = etree.tostring(root, pretty_print=True, encoding=\"utf-8\")\n",
    "\n",
    "# Print or save the XML data as needed\n",
    "print(xml_data)\n"
   ]
  },
  {
   "cell_type": "code",
   "execution_count": 10,
   "id": "2eef9865",
   "metadata": {},
   "outputs": [
    {
     "name": "stdout",
     "output_type": "stream",
     "text": [
      "XML data is valid according to the XSD schema.\n"
     ]
    }
   ],
   "source": [
    "xsd_file = \"seminar_xsd_3.xsd\"\n",
    "try:\n",
    "    xmlschema_doc = etree.parse(xsd_file)\n",
    "    xmlschema = etree.XMLSchema(xmlschema_doc)\n",
    "    xml_doc = etree.fromstring(xml_data)\n",
    "    xmlschema.assertValid(xml_doc)\n",
    "    print(\"XML data is valid according to the XSD schema.\")\n",
    "except etree.DocumentInvalid as e:\n",
    "    print(\"XML data is not valid according to the XSD schema:\")\n",
    "    print(e)"
   ]
  },
  {
   "cell_type": "code",
   "execution_count": null,
   "id": "3527339b",
   "metadata": {},
   "outputs": [],
   "source": []
  },
  {
   "cell_type": "code",
   "execution_count": null,
   "id": "fb09c10b",
   "metadata": {},
   "outputs": [],
   "source": []
  },
  {
   "cell_type": "code",
   "execution_count": null,
   "id": "5e296949",
   "metadata": {},
   "outputs": [],
   "source": []
  },
  {
   "cell_type": "code",
   "execution_count": null,
   "id": "019c4fb2",
   "metadata": {},
   "outputs": [],
   "source": []
  },
  {
   "cell_type": "code",
   "execution_count": 4,
   "id": "92ccdc19",
   "metadata": {},
   "outputs": [
    {
     "name": "stdout",
     "output_type": "stream",
     "text": [
      "XML data is valid according to the XSD schema.\n"
     ]
    }
   ],
   "source": [
    "from lxml import etree\n",
    "\n",
    "# Load the XML document from file\n",
    "xml_file = 'seminar_xml_2.xml'\n",
    "xml_doc = etree.parse(xml_file)\n",
    "\n",
    "# Load the XSD schema from file\n",
    "xsd_file = 'seminar_xsd_2.xsd'  # Replace with the path to your XSD schema file\n",
    "xmlschema_doc = etree.parse(xsd_file)\n",
    "xmlschema = etree.XMLSchema(xmlschema_doc)\n",
    "\n",
    "# Validate the XML document against the XSD schema\n",
    "try:\n",
    "    xmlschema.assertValid(xml_doc)\n",
    "    print(\"XML data is valid according to the XSD schema.\")\n",
    "except etree.DocumentInvalid as e:\n",
    "    print(\"XML data is not valid according to the XSD schema:\")\n",
    "    print(e)\n"
   ]
  },
  {
   "cell_type": "markdown",
   "id": "ba43aed5",
   "metadata": {},
   "source": [
    "# Geting all table data"
   ]
  },
  {
   "cell_type": "code",
   "execution_count": 23,
   "id": "8077a0af",
   "metadata": {},
   "outputs": [],
   "source": [
    "import mysql.connector\n",
    "from lxml import etree\n",
    "\n",
    "# Database configuration\n",
    "db_config = {\n",
    "    \"host\": \"localhost\",\n",
    "    \"user\": \"root\",\n",
    "    \"password\": \"\",\n",
    "    \"database\": \"events\",  # Replace with your database name\n",
    "}\n",
    "\n",
    "# Establish a database connection\n",
    "conn = mysql.connector.connect(**db_config)\n",
    "\n",
    "# Create a cursor\n",
    "cursor = conn.cursor()\n",
    "\n",
    "# Define an XSD schema file\n",
    "xsd_file = \"event.xsd\"\n",
    "\n",
    "# Create a root element for the XML document\n",
    "root = etree.Element(\"events\")\n",
    "\n",
    "# List of table names\n",
    "table_names = [\"seminar\", \"sport\", \"club\"]\n",
    "\n",
    "# Iterate through table names\n",
    "for table_name in table_names:\n",
    "    # Query to fetch data from the table\n",
    "    query = f\"SELECT * FROM {table_name}\"\n",
    "\n",
    "    # Execute the query\n",
    "    cursor.execute(query)\n",
    "\n",
    "    # Fetch all rows\n",
    "    rows = cursor.fetchall()\n",
    "\n",
    "    # Iterate through rows\n",
    "    for row in rows:\n",
    "        event = etree.SubElement(root, table_name)\n",
    "\n",
    "        # Iterate through columns and add data to the XML document\n",
    "        for column_index, column_value in enumerate(row):\n",
    "            column_name = cursor.description[column_index][0]\n",
    "            column_element = etree.SubElement(event, column_name)\n",
    "            if column_value is not None:\n",
    "                column_element.text = str(column_value)\n",
    "\n",
    "# Convert the XML document to a string\n",
    "xml_data3 = etree.tostring(root, pretty_print=True, encoding=\"utf-8\")\n"
   ]
  },
  {
   "cell_type": "code",
   "execution_count": 24,
   "id": "81ee0820",
   "metadata": {},
   "outputs": [
    {
     "data": {
      "text/plain": [
       "b'<events>\\n  <seminar>\\n    <Event_Title>semina1</Event_Title>\\n    <Start_Time>2023-09-20 18:26:00</Start_Time>\\n    <End_Time>2023-09-20 19:26:00</End_Time>\\n    <Location>sac</Location>\\n    <Speaker>prashu</Speaker>\\n    <Speaker_Biography>student</Speaker_Biography>\\n    <Speaker_Affiliation>pata nahi</Speaker_Affiliation>\\n    <Organizer>bala</Organizer>\\n    <Organizer_Mail>bala@gmail.com</Organizer_Mail>\\n    <Approver>deepak</Approver>\\n    <Approver_Mail>deepak@gmail.com</Approver_Mail>\\n    <Abstract>hellow</Abstract>\\n  </seminar>\\n  <seminar>\\n    <Event_Title>senimar 2</Event_Title>\\n    <Start_Time>2023-09-22 11:43:00</Start_Time>\\n    <End_Time>2023-09-21 00:43:00</End_Time>\\n    <Location>cse department</Location>\\n    <Speaker>chester sir</Speaker>\\n    <Speaker_Biography>faculty of IITM</Speaker_Biography>\\n    <Speaker_Affiliation>pata nahi</Speaker_Affiliation>\\n    <Organizer>prashu</Organizer>\\n    <Organizer_Mail>pranshu@gmail.com</Organizer_Mail>\\n    <Approver>deepak</Approver>\\n    <Approver_Mail>deepak@gmail.com</Approver_Mail>\\n    <Abstract>security related talk</Abstract>\\n  </seminar>\\n  <seminar>\\n    <Event_Title>senimar 2</Event_Title>\\n    <Start_Time>2023-09-22 11:43:00</Start_Time>\\n    <End_Time>2023-09-21 00:43:00</End_Time>\\n    <Location>cse department</Location>\\n    <Speaker>chester sir</Speaker>\\n    <Speaker_Biography>faculty of IITM</Speaker_Biography>\\n    <Speaker_Affiliation>pata nahi</Speaker_Affiliation>\\n    <Organizer>prashu</Organizer>\\n    <Organizer_Mail>pranshu@gmail.com</Organizer_Mail>\\n    <Approver>deepak</Approver>\\n    <Approver_Mail>deepak@gmail.com</Approver_Mail>\\n    <Abstract>security related talk</Abstract>\\n  </seminar>\\n  <sport>\\n    <Event_Title>Volleyball Turnaments</Event_Title>\\n    <Sport_Club_Name>Volleyball club</Sport_Club_Name>\\n    <Sport_Name>Volleyball</Sport_Name>\\n    <Start_Date>2023-09-21 00:00:00</Start_Date>\\n    <End_Date>2023-09-21 00:00:00</End_Date>\\n    <Start_Time>8:28:00</Start_Time>\\n    <End_Time>18:29:00</End_Time>\\n    <Location>sport complex</Location>\\n    <Organizer>me</Organizer>\\n    <Organizer_Mail>me@gmail.com</Organizer_Mail>\\n    <Approver>tu</Approver>\\n    <Approver_Mail>tu@gmail.com</Approver_Mail>\\n    <Abstract>volleyball game play</Abstract>\\n  </sport>\\n  <sport>\\n    <Event_Title>basketball turnament</Event_Title>\\n    <Sport_Club_Name>basketball club</Sport_Club_Name>\\n    <Sport_Name>basketball</Sport_Name>\\n    <Start_Date>2023-09-21 00:00:00</Start_Date>\\n    <End_Date>2023-09-23 00:00:00</End_Date>\\n    <Start_Time>10:47:00</Start_Time>\\n    <End_Time>21:47:00</End_Time>\\n    <Location>sport complex</Location>\\n    <Organizer>bala</Organizer>\\n    <Organizer_Mail>me@gmail.com</Organizer_Mail>\\n    <Approver>tu</Approver>\\n    <Approver_Mail>tu@gmail.com</Approver_Mail>\\n    <Abstract>jfSJF</Abstract>\\n  </sport>\\n  <sport>\\n    <Event_Title>basketball turnament</Event_Title>\\n    <Sport_Club_Name>basketball club</Sport_Club_Name>\\n    <Sport_Name>basketball</Sport_Name>\\n    <Start_Date>2023-09-21 00:00:00</Start_Date>\\n    <End_Date>2023-09-23 00:00:00</End_Date>\\n    <Start_Time>10:47:00</Start_Time>\\n    <End_Time>21:47:00</End_Time>\\n    <Location>sport complex</Location>\\n    <Organizer>bala</Organizer>\\n    <Organizer_Mail>me@gmail.com</Organizer_Mail>\\n    <Approver>tu</Approver>\\n    <Approver_Mail>tu@gmail.com</Approver_Mail>\\n    <Abstract>jfSJF</Abstract>\\n  </sport>\\n  <club>\\n    <event_title>Ganpati Visarjan</event_title>\\n    <club_name>Hindi MitraMandali</club_name>\\n    <start_date>2023-09-23 00:00:00</start_date>\\n    <end_date>2023-09-23 00:00:00</end_date>\\n    <start_time>18:31:00</start_time>\\n    <end_time>20:31:00</end_time>\\n    <location>mareena beach</location>\\n    <organizer>bala</organizer>\\n    <organizer_mail>bala@gmail.com</organizer_mail>\\n    <approver>deepak</approver>\\n    <approver_mail>deepak@gmail.com</approver_mail>\\n    <abstract>Ganpati bappaa mauriya agale baras tu jaldi aa</abstract>\\n  </club>\\n  <club>\\n    <event_title>HELTH TALK</event_title>\\n    <club_name>IITM helth club</club_name>\\n    <start_date>2023-09-24 00:00:00</start_date>\\n    <end_date>2023-09-24 00:00:00</end_date>\\n    <start_time>11:48:00</start_time>\\n    <end_time>0:49:00</end_time>\\n    <location>sac</location>\\n    <organizer>bala</organizer>\\n    <organizer_mail>bala@gmail.com</organizer_mail>\\n    <approver>deepak</approver>\\n    <approver_mail>deepak@gmail.com</approver_mail>\\n    <abstract>helth related talk come fast </abstract>\\n  </club>\\n  <club>\\n    <event_title>HELTH TALK</event_title>\\n    <club_name>IITM helth club</club_name>\\n    <start_date>2023-09-24 00:00:00</start_date>\\n    <end_date>2023-09-24 00:00:00</end_date>\\n    <start_time>11:48:00</start_time>\\n    <end_time>0:49:00</end_time>\\n    <location>sac</location>\\n    <organizer>bala</organizer>\\n    <organizer_mail>bala@gmail.com</organizer_mail>\\n    <approver>deepak</approver>\\n    <approver_mail>deepak@gmail.com</approver_mail>\\n    <abstract>helth related talk come fast </abstract>\\n  </club>\\n</events>\\n'"
      ]
     },
     "execution_count": 24,
     "metadata": {},
     "output_type": "execute_result"
    }
   ],
   "source": [
    "xml_data3"
   ]
  },
  {
   "cell_type": "code",
   "execution_count": 25,
   "id": "fc0d74cd",
   "metadata": {},
   "outputs": [
    {
     "name": "stdout",
     "output_type": "stream",
     "text": [
      "XML data is valid according to the XSD schema.\n"
     ]
    }
   ],
   "source": [
    "xsd_file = \"all_event_xsd_2.xsd\"\n",
    "try:\n",
    "    xmlschema_doc = etree.parse(xsd_file)\n",
    "    xmlschema = etree.XMLSchema(xmlschema_doc)\n",
    "    xml_doc = etree.fromstring(xml_data3)\n",
    "    xmlschema.assertValid(xml_doc)\n",
    "    print(\"XML data is valid according to the XSD schema.\")\n",
    "except etree.DocumentInvalid as e:\n",
    "    print(\"XML data is not valid according to the XSD schema:\")\n",
    "    print(e)"
   ]
  },
  {
   "cell_type": "code",
   "execution_count": null,
   "id": "f98d87e3",
   "metadata": {},
   "outputs": [],
   "source": []
  }
 ],
 "metadata": {
  "kernelspec": {
   "display_name": "Python 3 (ipykernel)",
   "language": "python",
   "name": "python3"
  },
  "language_info": {
   "codemirror_mode": {
    "name": "ipython",
    "version": 3
   },
   "file_extension": ".py",
   "mimetype": "text/x-python",
   "name": "python",
   "nbconvert_exporter": "python",
   "pygments_lexer": "ipython3",
   "version": "3.11.4"
  }
 },
 "nbformat": 4,
 "nbformat_minor": 5
}
