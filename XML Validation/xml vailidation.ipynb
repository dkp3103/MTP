{
 "cells": [
  {
   "cell_type": "markdown",
   "id": "607f4a36",
   "metadata": {},
   "source": [
    "# XML Validation"
   ]
  },
  {
   "cell_type": "code",
   "execution_count": 1,
   "id": "38ac47a8",
   "metadata": {},
   "outputs": [],
   "source": [
    "import mysql.connector\n",
    "from lxml import etree\n",
    "\n",
    "# Database configuration\n",
    "db_config = {\n",
    "    \"host\": \"localhost\",\n",
    "    \"user\": \"root\",\n",
    "    \"password\": \"\",\n",
    "    \"database\": \"events\",\n",
    "}\n",
    "\n",
    "# Establish a database connection\n",
    "conn = mysql.connector.connect(**db_config)\n",
    "\n",
    "cursor = conn.cursor()\n",
    "\n",
    "# Define an XSD schema file\n",
    "xsd_file = \"event.xsd\"\n",
    "\n",
    "# Create a root element for the XML document\n",
    "root = etree.Element(\"events\")\n",
    "\n",
    "# List of table names\n",
    "table_names = [\"seminar\", \"sport\", \"club\"]\n",
    "\n",
    "# Iterate through table names\n",
    "for table_name in table_names:\n",
    "    # Query to fetch data from the table\n",
    "    query = f\"SELECT * FROM {table_name}\"\n",
    "\n",
    "    # Execute the query\n",
    "    cursor.execute(query)\n",
    "\n",
    "    # Fetch all rows\n",
    "    rows = cursor.fetchall()\n",
    "\n",
    "    # Iterate through rows\n",
    "    for row in rows:\n",
    "        event = etree.SubElement(root, table_name)\n",
    "\n",
    "        # Iterate through columns and add data to the XML document\n",
    "        for column_index, column_value in enumerate(row):\n",
    "            column_name = cursor.description[column_index][0]\n",
    "            column_element = etree.SubElement(event, column_name)\n",
    "            if column_value is not None:\n",
    "                column_element.text = str(column_value)\n",
    "\n",
    "# Convert the XML document to a string\n",
    "xml_data3 = etree.tostring(root, pretty_print=True, encoding=\"utf-8\")\n"
   ]
  },
  {
   "cell_type": "code",
   "execution_count": 2,
   "id": "110660a5",
   "metadata": {},
   "outputs": [
    {
     "data": {
      "text/plain": [
       "b'<events>\\n  <seminar>\\n    <Seminar_Type>Guest Lectures</Seminar_Type>\\n    <title>Periodic Surgical Innovatiom</title>\\n    <Department>Computer Science</Department>\\n    <start>2023-10-13 15:00:00</start>\\n    <end>2023-10-13 16:00:00</end>\\n    <Location>SAC</Location>\\n    <Speaker>XYZ</Speaker>\\n    <Speaker_Biography>Research scientist with 15 years of experience</Speaker_Biography>\\n    <Speaker_Affiliation>Assosiate Director,xyx  institute,Chennai</Speaker_Affiliation>\\n    <Organizer>Deepak</Organizer>\\n    <Organizer_Mail>cs22m038@smail.iitm.ac.in</Organizer_Mail>\\n    <Approver>vzxc</Approver>\\n    <Approver_Mail>krules1998@smail.iitm.ac.in</Approver_Mail>\\n    <Abstract>Overview of bioengineering intiative</Abstract>\\n  </seminar>\\n  <seminar>\\n    <Seminar_Type>reasearch proposal</Seminar_Type>\\n    <title>process developement for caffinie degredation</title>\\n    <Department>Biotechnology</Department>\\n    <start>2023-10-16 15:30:00</start>\\n    <end>2023-10-16 16:30:00</end>\\n    <Location>BT seminar hall</Location>\\n    <Speaker>amit kumar</Speaker>\\n    <Speaker_Biography>PhD reasearch scholar</Speaker_Biography>\\n    <Speaker_Affiliation>Sathyanarayana Gummadi</Speaker_Affiliation>\\n    <Organizer>bala</Organizer>\\n    <Organizer_Mail>cs22m027@smail.iitm.ac.in</Organizer_Mail>\\n    <Approver>deepak</Approver>\\n    <Approver_Mail>cs22m038@smail.iitm.ac.in</Approver_Mail>\\n    <Abstract>Caffine is probably the most extensively used psychoaxctive substance worldwide</Abstract>\\n  </seminar>\\n  <sport>\\n    <Event_Title>Intra College Cup</Event_Title>\\n    <Sport_Club_Name>Basketball club</Sport_Club_Name>\\n    <Sport_Name>Bastketbal</Sport_Name>\\n    <Start_Date>2023-10-13 00:00:00</Start_Date>\\n    <End_Date>2023-10-14 00:00:00</End_Date>\\n    <Start_Time>16:00:00</Start_Time>\\n    <End_Time>17:30:00</End_Time>\\n    <Location>Chemplast ground</Location>\\n    <Organizer>Pranshu</Organizer>\\n    <Organizer_Mail>cs22m065@smail.iitm.ac.in</Organizer_Mail>\\n    <Approver>xyz</Approver>\\n    <Approver_Mail>krules1998@smail.iitm.ac.in</Approver_Mail>\\n    <Abstract>Intra college tournment between department across departments in game of basketball </Abstract>\\n  </sport>\\n</events>\\n'"
      ]
     },
     "execution_count": 2,
     "metadata": {},
     "output_type": "execute_result"
    }
   ],
   "source": [
    "xml_data3"
   ]
  },
  {
   "cell_type": "code",
   "execution_count": 6,
   "id": "9324fe78",
   "metadata": {},
   "outputs": [
    {
     "name": "stdout",
     "output_type": "stream",
     "text": [
      "XML data is valid according to the XSD schema.\n"
     ]
    }
   ],
   "source": [
    "xsd_file = \"all_event_xsd_2.xsd\"\n",
    "try:\n",
    "    xmlschema_doc = etree.parse(xsd_file)\n",
    "    xmlschema = etree.XMLSchema(xmlschema_doc)\n",
    "    xml_doc = etree.fromstring(xml_data3)\n",
    "    xmlschema.assertValid(xml_doc)\n",
    "    print(\"XML data is valid according to the XSD schema.\")\n",
    "except etree.DocumentInvalid as e:\n",
    "    print(\"XML data is not valid according to the XSD schema:\")\n",
    "    print(e)"
   ]
  },
  {
   "cell_type": "code",
   "execution_count": null,
   "id": "a76ca2b6",
   "metadata": {},
   "outputs": [],
   "source": []
  }
 ],
 "metadata": {
  "kernelspec": {
   "display_name": "Python 3 (ipykernel)",
   "language": "python",
   "name": "python3"
  },
  "language_info": {
   "codemirror_mode": {
    "name": "ipython",
    "version": 3
   },
   "file_extension": ".py",
   "mimetype": "text/x-python",
   "name": "python",
   "nbconvert_exporter": "python",
   "pygments_lexer": "ipython3",
   "version": "3.11.4"
  }
 },
 "nbformat": 4,
 "nbformat_minor": 5
}
